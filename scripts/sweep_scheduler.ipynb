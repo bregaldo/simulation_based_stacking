{
 "cells": [
  {
   "cell_type": "code",
   "execution_count": null,
   "metadata": {},
   "outputs": [],
   "source": [
    "import os, sys\n",
    "import sbi_stacking.utils as utils"
   ]
  },
  {
   "cell_type": "code",
   "execution_count": null,
   "metadata": {},
   "outputs": [],
   "source": [
    "task = \"sir\"\n",
    "num_simulations = 10000\n",
    "\n",
    "run_id_start = 0\n",
    "nb_runs = 50\n",
    "wb_sweep_cnt = 1\n",
    "max_epochs = 150\n",
    "save_every = 10\n",
    "\n",
    "wb_config_name = f'npe_{task}.yaml'\n",
    "script_template = \"npe.sh\"\n",
    "scripts_name_template = script_template.split(\".\")[0]\n",
    "\n",
    "keys_substitutes = {\"{{sweep_id}}\": None,\n",
    "                    \"{{script_name}}\": scripts_name_template,\n",
    "                    \"{{task}}\": task,\n",
    "                    \"{{num_simulations}}\": num_simulations,\n",
    "                    \"{{wb_sweep_cnt}}\": wb_sweep_cnt,\n",
    "                    \"{{epochs}}\": max_epochs,\n",
    "                    \"{{save_every}}\": save_every,\n",
    "                    \"{{run_id}}\": 0}"
   ]
  },
  {
   "cell_type": "code",
   "execution_count": null,
   "metadata": {},
   "outputs": [],
   "source": [
    "keys_substitutes[\"{{sweep_id}}\"] = utils.get_sweep_id(wb_config_name)"
   ]
  },
  {
   "cell_type": "code",
   "execution_count": null,
   "metadata": {},
   "outputs": [],
   "source": [
    "with open(f'templates/{script_template}', 'r') as f:\n",
    "    script_template = f.read()"
   ]
  },
  {
   "cell_type": "code",
   "execution_count": null,
   "metadata": {},
   "outputs": [],
   "source": [
    "for run_id in range(run_id_start, run_id_start + nb_runs):\n",
    "    keys_substitutes[\"{{run_id}}\"] = run_id\n",
    "    script = script_template\n",
    "    for key, value in keys_substitutes.items():\n",
    "        script = script.replace(key, str(value))\n",
    "    with open(f'jobs/{scripts_name_template}_{run_id}.sh', 'w') as f:\n",
    "        f.write(script)\n",
    "    os.system(f'sbatch jobs/{scripts_name_template}_{run_id}.sh')"
   ]
  }
 ],
 "metadata": {
  "kernelspec": {
   "display_name": "stacking",
   "language": "python",
   "name": "python3"
  },
  "language_info": {
   "codemirror_mode": {
    "name": "ipython",
    "version": 3
   },
   "file_extension": ".py",
   "mimetype": "text/x-python",
   "name": "python",
   "nbconvert_exporter": "python",
   "pygments_lexer": "ipython3",
   "version": "3.10.10"
  },
  "orig_nbformat": 4
 },
 "nbformat": 4,
 "nbformat_minor": 2
}
